{
  "nbformat": 4,
  "nbformat_minor": 0,
  "metadata": {
    "colab": {
      "provenance": []
    },
    "kernelspec": {
      "name": "python3",
      "display_name": "Python 3"
    },
    "language_info": {
      "name": "python"
    }
  },
  "cells": [
    {
      "cell_type": "code",
      "source": [
        "import pandas as pd\n",
        "import numpy as np\n",
        "import json\n",
        "from collections import Counter\n",
        "import copy"
      ],
      "metadata": {
        "id": "XJelQc_9DDiR"
      },
      "execution_count": null,
      "outputs": []
    },
    {
      "cell_type": "code",
      "execution_count": null,
      "metadata": {
        "id": "xkCubDqOwsLO"
      },
      "outputs": [],
      "source": [
        "commit_sharing = \"./20231012_230826_commit_sharings.json\"\n",
        "pull_request_sharing = \"./20231012_233628_pr_sharings.json\"\n",
        "issue_sharing = \"./20231012_235128_issue_sharings.json\"\n",
        "file_sharings = \"./20231012_234250_file_sharings.json\"\n",
        "discussion_sharings = \"./20231012_235320_discussion_sharings.json\"\n",
        "\n",
        "path_lista_sinonimos = \"./synonyms_for_normalization.txt\""
      ]
    },
    {
      "cell_type": "code",
      "source": [
        "# arquivo_json = pull_request_sharing\n",
        "\n",
        "# Abra o arquivo json\n",
        "with open(commit_sharing, 'r') as f:\n",
        "    dados1 = json.load(f)\n",
        "\n",
        "# Abra o arquivo json\n",
        "with open(pull_request_sharing, 'r') as f:\n",
        "    dados2 = json.load(f)\n",
        "\n",
        "# Abra o arquivo json\n",
        "with open(issue_sharing, 'r') as f:\n",
        "    dados3 = json.load(f)\n",
        "\n",
        "# Abra o arquivo json\n",
        "with open(file_sharings, 'r') as f:\n",
        "    dados4 = json.load(f)\n",
        "\n",
        "# Abra o arquivo json\n",
        "with open(discussion_sharings, 'r') as f:\n",
        "    dados5 = json.load(f)\n",
        "\n",
        "jsons = {\n",
        "    \"data1\": dados1,\n",
        "    \"data2\": dados2,\n",
        "    \"data3\": dados3,\n",
        "    \"data4\": dados4,\n",
        "    \"data5\": dados5\n",
        "}"
      ],
      "metadata": {
        "id": "G0H1Vn_9DSQq"
      },
      "execution_count": null,
      "outputs": []
    },
    {
      "cell_type": "markdown",
      "source": [
        "# Normalização"
      ],
      "metadata": {
        "id": "xUf5s_I2gNzI"
      }
    },
    {
      "cell_type": "code",
      "source": [
        "# Abre o arquivo em modo de leitura\n",
        "with open(path_lista_sinonimos, 'r') as arquivo:\n",
        "    # Inicializa um dicionário para armazenar os dados\n",
        "    synonyms = {}\n",
        "\n",
        "    # Lê cada linha do arquivo\n",
        "    for linha in arquivo:\n",
        "        # Divide a linha em chave e valor usando ':' como delimitador\n",
        "        chave, valor = linha.strip().split('=')\n",
        "\n",
        "        # Armazena os dados no dicionário (removendo espaços extras)\n",
        "        synonyms[chave.strip()] = valor.strip().split(',')"
      ],
      "metadata": {
        "id": "8xRBwdwtPL5g"
      },
      "execution_count": null,
      "outputs": []
    },
    {
      "cell_type": "code",
      "source": [
        "\n",
        "for tabela in jsons:\n",
        "  for elementos in jsons[tabela][\"Sources\"]:\n",
        "    if elementos[\"RepoLanguage\"] == None :\n",
        "      elementos[\"RepoLanguage\"] = \"none\"\n",
        "    else:\n",
        "      for linguagem, alias in synonyms.items():\n",
        "        if elementos[\"RepoLanguage\"] in alias:\n",
        "          elementos[\"RepoLanguage\"] = linguagem\n",
        "\n",
        "for tabela in jsons:\n",
        "  for elementos in jsons[tabela][\"Sources\"]:\n",
        "    for elemento in elementos[\"ChatgptSharing\"]:\n",
        "      if \"Conversations\" in elemento and elemento[\"Conversations\"]:\n",
        "        for conversation in elemento[\"Conversations\"]:\n",
        "          if \"ListOfCode\" in conversation and conversation[\"ListOfCode\"]:\n",
        "            for snipetType in conversation[\"ListOfCode\"]:\n",
        "              if snipetType[\"Type\"] == None :\n",
        "                snipetType[\"Type\"] = \"none\"\n",
        "              else:\n",
        "                for linguagem, alias in synonyms.items():\n",
        "                  if  snipetType[\"Type\"] in alias:\n",
        "                    snipetType[\"Type\"] = linguagem\n",
        "\n"
      ],
      "metadata": {
        "id": "oQ2Jn8hvG4ub"
      },
      "execution_count": null,
      "outputs": []
    },
    {
      "cell_type": "code",
      "source": [
        "\n",
        "caminho_arquivo = 'dados.json'\n",
        "\n",
        "# Escreve o JSON no arquivo\n",
        "with open(caminho_arquivo, 'w') as arquivo:\n",
        "  json.dump(jsons, arquivo)"
      ],
      "metadata": {
        "id": "DyzWMR08Ayrq"
      },
      "execution_count": null,
      "outputs": []
    },
    {
      "cell_type": "markdown",
      "source": [
        "# Extração de dados"
      ],
      "metadata": {
        "id": "HpGcZcGYf9wg"
      }
    },
    {
      "cell_type": "code",
      "source": [
        "# len(dados[\"Sources\"])\n",
        "repoLang = []\n",
        "for tabela in jsons:\n",
        "  for elementos in jsons[tabela][\"Sources\"]:\n",
        "    repoLang.append(elementos[\"RepoLanguage\"])\n"
      ],
      "metadata": {
        "id": "WLwJtazqGgIJ"
      },
      "execution_count": null,
      "outputs": []
    },
    {
      "cell_type": "code",
      "source": [
        "contagem = Counter(repoLang)\n",
        "contagem\n",
        "\n",
        "contagemDict = dict(contagem)\n",
        "# contagemDict[\"None\"] = contagemDict[None]\n",
        "# del contagemDict[None]"
      ],
      "metadata": {
        "id": "vkrJphY-XhDI"
      },
      "execution_count": null,
      "outputs": []
    },
    {
      "cell_type": "code",
      "source": [
        "df0 = pd.DataFrame(list(contagemDict.items()), columns=['Language', 'Count'])"
      ],
      "metadata": {
        "id": "JeKQaHupXo9R"
      },
      "execution_count": null,
      "outputs": []
    },
    {
      "cell_type": "code",
      "source": [
        "repoByLanguage = {}\n",
        "\n",
        "for key in contagem.keys():\n",
        "  repoByLanguage.setdefault(key, [])\n",
        "  for tabela in jsons:\n",
        "    for elementos in jsons[tabela][\"Sources\"]:\n",
        "      if elementos[\"RepoLanguage\"] == key:\n",
        "        repoByLanguage[key].append(elementos[\"RepoName\"])\n"
      ],
      "metadata": {
        "id": "jAUk6iuvcMPq"
      },
      "execution_count": null,
      "outputs": []
    },
    {
      "cell_type": "code",
      "source": [
        "# repoByLanguage[\"None\"] = repoByLanguage[None]\n",
        "# del repoByLanguage[None]\n"
      ],
      "metadata": {
        "id": "7y6R0GfgiBTY"
      },
      "execution_count": null,
      "outputs": []
    },
    {
      "cell_type": "code",
      "source": [
        "df1 = pd.DataFrame(list(repoByLanguage.items()), columns=['Language', 'Repos'])\n",
        "# df.to_csv('repoByLanguage.csv', index=False)"
      ],
      "metadata": {
        "id": "-3FmmUfKuFht"
      },
      "execution_count": null,
      "outputs": []
    },
    {
      "cell_type": "code",
      "source": [
        "repoByLanguageCount = copy.deepcopy(repoByLanguage)\n",
        "\n",
        "for chave, lista in repoByLanguage.items():\n",
        "    repoByLanguage[chave] = list(set(lista))\n",
        "    repoByLanguageCount[chave] = len(list(set(lista)))"
      ],
      "metadata": {
        "id": "tIwI7ZYt8SWp"
      },
      "execution_count": null,
      "outputs": []
    },
    {
      "cell_type": "code",
      "source": [
        "df2 = pd.DataFrame(list(repoByLanguage.items()), columns=['Language', 'UniqueRepos'])\n",
        "df3 = pd.DataFrame(list(repoByLanguageCount.items()), columns=['Language', 'UniqueReposCount'])\n",
        "# df.to_csv('repoByLanguageUnique.csv', index=False)"
      ],
      "metadata": {
        "id": "1MqOCA13jk16"
      },
      "execution_count": null,
      "outputs": []
    },
    {
      "cell_type": "markdown",
      "source": [
        "## CountChat"
      ],
      "metadata": {
        "id": "hTB8tUaa8ZgH"
      }
    },
    {
      "cell_type": "code",
      "source": [
        "chatByLanguage = {}\n",
        "for tabela in jsons:\n",
        "  for elementos in jsons[tabela][\"Sources\"]:\n",
        "    chatByLanguage.setdefault(elementos[\"RepoLanguage\"], [])\n",
        "    for elemento in elementos[\"ChatgptSharing\"]:\n",
        "      chatByLanguage[elementos[\"RepoLanguage\"]].append(elemento[\"URL\"])\n",
        "\n"
      ],
      "metadata": {
        "id": "_Gj2Ig-q8bon"
      },
      "execution_count": null,
      "outputs": []
    },
    {
      "cell_type": "code",
      "source": [
        "# chatByLanguage[\"None\"] = chatByLanguage[None]\n",
        "# del chatByLanguage[None]"
      ],
      "metadata": {
        "id": "4fgj7EmtM8Qn"
      },
      "execution_count": null,
      "outputs": []
    },
    {
      "cell_type": "code",
      "source": [
        "df4 = pd.DataFrame(list(chatByLanguage.items()), columns=['Language', 'Chat'])\n",
        "# df.to_csv('chatByLanguage.csv', index=False)"
      ],
      "metadata": {
        "id": "bfyDGygyKSc1"
      },
      "execution_count": null,
      "outputs": []
    },
    {
      "cell_type": "code",
      "source": [
        "chatByLanguageCount = copy.deepcopy(chatByLanguage)\n",
        "for chave, lista in chatByLanguage.items():\n",
        "    chatByLanguage[chave] = list(set(lista))\n",
        "    chatByLanguageCount[chave] = len(list(set(lista)))"
      ],
      "metadata": {
        "id": "wf782MlrOM11"
      },
      "execution_count": null,
      "outputs": []
    },
    {
      "cell_type": "code",
      "source": [
        "chatByLanguage\n",
        "df5 = pd.DataFrame(list(chatByLanguage.items()), columns=['Language', 'UniqueChat'])\n",
        "df6 = pd.DataFrame(list(chatByLanguageCount.items()), columns=['Language', 'UniqueChatCount'])\n",
        "# df.to_csv('uniqueChatByLanguage.csv', index=False)"
      ],
      "metadata": {
        "id": "7BVGqJuNO5Ar"
      },
      "execution_count": null,
      "outputs": []
    },
    {
      "cell_type": "markdown",
      "source": [
        "## Snipets de Codigo"
      ],
      "metadata": {
        "id": "rA4B5g7kRJQB"
      }
    },
    {
      "cell_type": "code",
      "source": [
        "snipetsByLanguage = {}\n",
        "for tabela in jsons:\n",
        "  for elementos in jsons[tabela][\"Sources\"]:\n",
        "    snipetsByLanguage.setdefault(elementos[\"RepoLanguage\"], [])\n",
        "    for elemento in elementos[\"ChatgptSharing\"]:\n",
        "      if \"Conversations\" in elemento and elemento[\"Conversations\"]:\n",
        "        for conversation in elemento[\"Conversations\"]:\n",
        "          if \"ListOfCode\" in conversation and conversation[\"ListOfCode\"]:\n",
        "            for snipetType in conversation[\"ListOfCode\"]:\n",
        "              snipetsByLanguage[elementos[\"RepoLanguage\"]].append(snipetType[\"Type\"])\n",
        "\n"
      ],
      "metadata": {
        "id": "YYF_L6rKRMHM"
      },
      "execution_count": null,
      "outputs": []
    },
    {
      "cell_type": "code",
      "source": [
        "# snipetsByLanguage[\"None\"] = snipetsByLanguage[None]\n",
        "# del snipetsByLanguage[None]\n"
      ],
      "metadata": {
        "id": "gXd5xTqkd2F_"
      },
      "execution_count": null,
      "outputs": []
    },
    {
      "cell_type": "code",
      "source": [
        "snipetsByLanguage\n",
        "snipetsByLanguagePercentage = copy.deepcopy(snipetsByLanguage)\n",
        "snipetsByLanguageTotal = copy.deepcopy(snipetsByLanguage)"
      ],
      "metadata": {
        "id": "IdlUVMODhMzz"
      },
      "execution_count": null,
      "outputs": []
    },
    {
      "cell_type": "code",
      "source": [
        "\n",
        "for chave, lista in snipetsByLanguage.items():\n",
        "    # Calcular a contagem total de elementos na lista atual\n",
        "    total_elementos_lista = len(lista)\n",
        "\n",
        "    # Calcular a contagem de elementos na lista atual\n",
        "    contagem_elementos = Counter(lista)\n",
        "\n",
        "    # Calcular a porcentagem de ocorrência de cada elemento na lista atual\n",
        "    snipetsByLanguagePercentage[chave] = {elemento: f'{(ocorrencias / total_elementos_lista) * 100:.3f}' for elemento, ocorrencias in contagem_elementos.items()}\n",
        "    snipetsByLanguage[chave] = dict(Counter(snipetsByLanguage[chave]))\n",
        "    snipetsByLanguageTotal[chave] = (sum(Counter(snipetsByLanguage[chave]).values()))"
      ],
      "metadata": {
        "id": "mV5BHs_M1vj2"
      },
      "execution_count": null,
      "outputs": []
    },
    {
      "cell_type": "code",
      "source": [
        "df7 = pd.DataFrame(list(snipetsByLanguage.items()), columns=['Language', 'SnippetLang'])\n",
        "\n",
        "df8 = pd.DataFrame(list(snipetsByLanguageTotal.items()), columns=['Language', 'SnippetLangCount'])\n",
        "\n",
        "df9 = pd.DataFrame(list(snipetsByLanguagePercentage.items()), columns=['Language', 'SnippetLangPercentage'])\n",
        "\n",
        "# df_concatenado = pd.concat([df0, df1, df2, df3, df4, df5, df6, df7, df8, df9], axis=1)\n",
        "df_concatenado = pd.merge(df0, df1, on='Language').merge(df2, on='Language').merge(df3, on='Language').merge(df4, on='Language')\n",
        "df_concatenado = df_concatenado.merge(df5, on='Language').merge(df6, on='Language').merge(df7, on='Language').merge(df8, on='Language').merge(df9, on='Language')\n",
        "df_concatenado.to_csv('mega_tabela_resultados.csv', index=False)"
      ],
      "metadata": {
        "id": "qn1uD23vcto2"
      },
      "execution_count": null,
      "outputs": []
    },
    {
      "cell_type": "markdown",
      "source": [
        "## Verificar a porcentagem e plotar graficos"
      ],
      "metadata": {
        "id": "k59i_LgyEzBg"
      }
    },
    {
      "cell_type": "code",
      "source": [
        "# snipetsByLanguage\n",
        "\n",
        "linhas = []\n",
        "for coluna, valores in snipetsByLanguage.items():\n",
        "    linha = {'linguagem': coluna}  # Adicione a coluna principal\n",
        "    linha.update(valores)  # Adicione os valores da linguagem\n",
        "    linhas.append(linha)\n",
        "\n",
        "# Criação do DataFrame\n",
        "snipetsByLanguageDF = pd.DataFrame(linhas)\n",
        "snipetsByLanguageDF = snipetsByLanguageDF.T\n",
        "\n",
        "\n",
        "# Exibindo o DataFrame\n",
        "snipetsByLanguageDF = snipetsByLanguageDF.fillna(0)\n",
        "snipetsByLanguageDF.to_csv('snipetsByLanguageDF.csv')"
      ],
      "metadata": {
        "id": "HQDjZn-VsvqY"
      },
      "execution_count": null,
      "outputs": []
    },
    {
      "cell_type": "code",
      "source": [
        "# # snipetsByLanguagePercentage\n",
        "\n",
        "linhas = []\n",
        "for coluna, valores in snipetsByLanguagePercentage.items():\n",
        "    linha = {'linguagem': coluna}  # Adicione a coluna principal\n",
        "    linha.update(valores)  # Adicione os valores da linguagem\n",
        "    linhas.append(linha)\n",
        "\n",
        "# Criação do DataFrame\n",
        "snipetsByLanguagePercentageDF = pd.DataFrame(linhas)\n",
        "snipetsByLanguagePercentageDF = snipetsByLanguagePercentageDF.T\n",
        "\n",
        "# Salvar o DataFrame\n",
        "snipetsByLanguagePercentageDF = snipetsByLanguagePercentageDF.fillna(0)\n",
        "snipetsByLanguagePercentageDF.to_csv('snipetsByLanguagePercentageDF.csv')"
      ],
      "metadata": {
        "id": "vH1qo3Mq1I-f"
      },
      "execution_count": null,
      "outputs": []
    },
    {
      "cell_type": "code",
      "source": [],
      "metadata": {
        "id": "yI2yeeuZIWo4"
      },
      "execution_count": null,
      "outputs": []
    }
  ]
}